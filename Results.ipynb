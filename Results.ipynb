{
 "cells": [
  {
   "cell_type": "markdown",
   "metadata": {},
   "source": [
    "# Zahra Mohamadkhani\n",
    "# Discrete data analysis of poverty in Brazil"
   ]
  },
  {
   "cell_type": "markdown",
   "metadata": {
    "id": "dv9bTTSaTYQp"
   },
   "source": [
    "# Loading Data"
   ]
  },
  {
   "cell_type": "code",
   "execution_count": 2,
   "metadata": {
    "colab": {
     "base_uri": "https://localhost:8080/"
    },
    "id": "NN3YYRf2SJdo",
    "outputId": "75bc7456-8fe0-4e9e-bfa5-0c35022daa42"
   },
   "outputs": [
    {
     "name": "stderr",
     "output_type": "stream",
     "text": [
      "Warning message:\n",
      "“Expecting numeric in F6988 / R6988C6: got 'NA'”\n"
     ]
    }
   ],
   "source": [
    "library(\"readxl\")\n",
    "df <- read_excel(\"poverty_brazil.xlsx\")"
   ]
  },
  {
   "cell_type": "markdown",
   "metadata": {
    "id": "krVvTFTkTfha"
   },
   "source": [
    "# Contingency tables"
   ]
  },
  {
   "cell_type": "code",
   "execution_count": 3,
   "metadata": {
    "colab": {
     "base_uri": "https://localhost:8080/"
    },
    "id": "An_AAensOMJj",
    "outputId": "4ee16f27-e7be-443a-c337-0c6e2e848abc"
   },
   "outputs": [
    {
     "name": "stdout",
     "output_type": "stream",
     "text": [
      "Contingency table for woman vs poverty:\n",
      "   \n",
      "       0    1\n",
      "  0 9433 3152\n",
      "  1 6651 1516\n",
      "\n",
      "Contingency table for age vs poverty:\n",
      "    \n",
      "       0   1\n",
      "  14   3   2\n",
      "  15  16   5\n",
      "  16  27   9\n",
      "  17  46  23\n",
      "  18 129  34\n",
      "  19 164  55\n",
      "  20 197  62\n",
      "  21 234  77\n",
      "  22 265  83\n",
      "  23 307  78\n",
      "  24 305  91\n",
      "  25 301  86\n",
      "  26 302  86\n",
      "  27 326 100\n",
      "  28 337  89\n",
      "  29 397 105\n",
      "  30 408 120\n",
      "  31 367 122\n",
      "  32 379 106\n",
      "  33 438 139\n",
      "  34 413 153\n",
      "  35 423 140\n",
      "  36 423 162\n",
      "  37 419 162\n",
      "  38 484 146\n",
      "  39 464 128\n",
      "  40 473 152\n",
      "  41 467 151\n",
      "  42 402 136\n",
      "  43 398 143\n",
      "  44 398 142\n",
      "  45 405 107\n",
      "  46 388 103\n",
      "  47 421 102\n",
      "  48 352  81\n",
      "  49 396 103\n",
      "  50 428 108\n",
      "  51 374  94\n",
      "  52 352  83\n",
      "  53 336  97\n",
      "  54 352  66\n",
      "  55 330  72\n",
      "  56 286  74\n",
      "  57 259  75\n",
      "  58 235  44\n",
      "  59 219  59\n",
      "  60 204  49\n",
      "  61 153  24\n",
      "  62 159  30\n",
      "  63 114  26\n",
      "  64 111  21\n",
      "  65  84  23\n",
      "  66  65  13\n",
      "  67  64  25\n",
      "  68  40  11\n",
      "  69  42  16\n",
      "  70  31  14\n",
      "  71  38   9\n",
      "  72  26   9\n",
      "  73  24   6\n",
      "  74  12  10\n",
      "  75  11   7\n",
      "  76  14   7\n",
      "  77  11   3\n",
      "  78  11   1\n",
      "  79   6   3\n",
      "  80   4   2\n",
      "  81   4   0\n",
      "  82   3   1\n",
      "  83   3   1\n",
      "  84   2   0\n",
      "  85   1   0\n",
      "  86   0   1\n",
      "  87   1   0\n",
      "  89   1   0\n",
      "  91   0   1\n",
      "\n",
      "Contingency table for education vs poverty:\n",
      "   \n",
      "       0    1\n",
      "  1  161  238\n",
      "  2 2972 1941\n",
      "  3 1129  454\n",
      "  4  779  366\n",
      "  5 5334 1310\n",
      "  6 1041  140\n",
      "  7 4668  219\n",
      "\n",
      "Contingency table for work vs poverty:\n",
      "    \n",
      "        0    1\n",
      "  1  1596 1291\n",
      "  2  2003  462\n",
      "  3   911  460\n",
      "  4  2980  792\n",
      "  5   711  181\n",
      "  6   621  263\n",
      "  7  1867  190\n",
      "  8  1318  115\n",
      "  9  2564  269\n",
      "  10  773  232\n",
      "  11  739  413\n",
      "  12    1    0\n",
      "\n",
      "Contingency table for metropolitan_area vs poverty:\n",
      "   \n",
      "       0    1\n",
      "  0 9657 3406\n",
      "  1 6427 1262\n",
      "\n",
      "Contingency table for non_white vs poverty:\n",
      "   \n",
      "       0    1\n",
      "  0 8113 1316\n",
      "  1 7970 3352\n",
      "\n",
      "Contingency table for urban vs poverty:\n",
      "   \n",
      "        0     1\n",
      "  0  2553  1874\n",
      "  1 13531  2794\n",
      "\n",
      "Contingency table for work_permit vs poverty:\n",
      "   \n",
      "       0    1\n",
      "  0 2304 1477\n",
      "  1 6677 1019\n",
      "  2 7103 2172\n",
      "\n"
     ]
    }
   ],
   "source": [
    "independent_vars <- c(\"woman\", \"age\", \"education\", \"work\", \"metropolitan_area\",\n",
    "                      \"non_white\", \"urban\", \"work_permit\")\n",
    "for (var in independent_vars) {\n",
    "  cat(\"Contingency table for\", var, \"vs poverty:\\n\")\n",
    "  print(table(df[[var]], df$poverty))\n",
    "  cat(\"\\n\")\n",
    "}\n",
    "attach(df)"
   ]
  },
  {
   "cell_type": "markdown",
   "metadata": {
    "id": "XtcPoYsUT7p5"
   },
   "source": [
    "**choose one of them**"
   ]
  },
  {
   "cell_type": "code",
   "execution_count": 4,
   "metadata": {
    "id": "Yu-cUt-hQbBR"
   },
   "outputs": [],
   "source": [
    "contingency_table <- table(df$poverty, df$non_white)"
   ]
  },
  {
   "cell_type": "markdown",
   "metadata": {
    "id": "P8qwRGiQUNDb"
   },
   "source": [
    "**Print the contingency table**"
   ]
  },
  {
   "cell_type": "code",
   "execution_count": 5,
   "metadata": {
    "colab": {
     "base_uri": "https://localhost:8080/"
    },
    "id": "ofyaSXUeT_1N",
    "outputId": "363eef67-a352-4b06-abaa-90395dddeb50"
   },
   "outputs": [
    {
     "name": "stdout",
     "output_type": "stream",
     "text": [
      "   \n",
      "       0    1\n",
      "  0 8113 7970\n",
      "  1 1316 3352\n"
     ]
    }
   ],
   "source": [
    "print(contingency_table)"
   ]
  },
  {
   "cell_type": "markdown",
   "metadata": {
    "id": "SwzyqloIUUKf"
   },
   "source": [
    "**Add margins to the contingency table**"
   ]
  },
  {
   "cell_type": "code",
   "execution_count": 6,
   "metadata": {
    "colab": {
     "base_uri": "https://localhost:8080/"
    },
    "id": "IYaAU29ZUV_n",
    "outputId": "d0882d0a-5fd4-45be-db43-b6da279af71d"
   },
   "outputs": [
    {
     "name": "stdout",
     "output_type": "stream",
     "text": [
      "     \n",
      "          0     1   Sum\n",
      "  0    8113  7970 16083\n",
      "  1    1316  3352  4668\n",
      "  Sum  9429 11322 20751\n"
     ]
    }
   ],
   "source": [
    "ccontingency_table <- addmargins(contingency_table)\n",
    "print(ccontingency_table)"
   ]
  },
  {
   "cell_type": "markdown",
   "metadata": {
    "id": "gtno_NW6UZ31"
   },
   "source": [
    "# Perform Cross Table analysis"
   ]
  },
  {
   "cell_type": "code",
   "execution_count": 7,
   "metadata": {
    "colab": {
     "base_uri": "https://localhost:8080/"
    },
    "id": "CP4Pn8oBU_nJ",
    "outputId": "d71296a0-c5dd-4639-f647-083d5ad0177e"
   },
   "outputs": [
    {
     "name": "stderr",
     "output_type": "stream",
     "text": [
      "Installing package into ‘/usr/local/lib/R/site-library’\n",
      "(as ‘lib’ is unspecified)\n",
      "\n",
      "also installing the dependencies ‘gtools’, ‘gdata’\n",
      "\n",
      "\n"
     ]
    }
   ],
   "source": [
    "install.packages(\"gmodels\")\n",
    "library(\"gmodels\")\n"
   ]
  },
  {
   "cell_type": "code",
   "execution_count": 8,
   "metadata": {
    "colab": {
     "base_uri": "https://localhost:8080/"
    },
    "id": "e9xdOi0WUR6L",
    "outputId": "df927ede-06da-4a86-c5d3-fc0260e69657"
   },
   "outputs": [
    {
     "name": "stdout",
     "output_type": "stream",
     "text": [
      "\n",
      " \n",
      "   Cell Contents\n",
      "|-------------------------|\n",
      "|                       N |\n",
      "|              Expected N |\n",
      "|           N / Row Total |\n",
      "|           N / Col Total |\n",
      "|         N / Table Total |\n",
      "|-------------------------|\n",
      "\n",
      " \n",
      "Total Observations in Table:  20751 \n",
      "\n",
      " \n",
      "             |  \n",
      "             |         0 |         1 | Row Total | \n",
      "-------------|-----------|-----------|-----------|\n",
      "           0 |      8113 |      7970 |     16083 | \n",
      "             |  7307.918 |  8775.082 |           | \n",
      "             |     0.504 |     0.496 |     0.775 | \n",
      "             |     0.860 |     0.704 |           | \n",
      "             |     0.391 |     0.384 |           | \n",
      "-------------|-----------|-----------|-----------|\n",
      "           1 |      1316 |      3352 |      4668 | \n",
      "             |  2121.082 |  2546.918 |           | \n",
      "             |     0.282 |     0.718 |     0.225 | \n",
      "             |     0.140 |     0.296 |           | \n",
      "             |     0.063 |     0.162 |           | \n",
      "-------------|-----------|-----------|-----------|\n",
      "Column Total |      9429 |     11322 |     20751 | \n",
      "             |     0.454 |     0.546 |           | \n",
      "-------------|-----------|-----------|-----------|\n",
      "\n",
      " \n",
      "Statistics for All Table Factors\n",
      "\n",
      "\n",
      "Pearson's Chi-squared test \n",
      "------------------------------------------------------------\n",
      "Chi^2 =  722.621     d.f. =  1     p =  3.603479e-159 \n",
      "\n",
      "Pearson's Chi-squared test with Yates' continuity correction \n",
      "------------------------------------------------------------\n",
      "Chi^2 =  721.7237     d.f. =  1     p =  5.647241e-159 \n",
      "\n",
      " \n",
      "Fisher's Exact Test for Count Data\n",
      "------------------------------------------------------------\n",
      "Sample estimate odds ratio:  2.592703 \n",
      "\n",
      "Alternative hypothesis: true odds ratio is not equal to 1\n",
      "p =  2.174958e-164 \n",
      "95% confidence interval:  2.414365 2.785207 \n",
      "\n",
      "Alternative hypothesis: true odds ratio is less than 1\n",
      "p =  1 \n",
      "95% confidence interval:  0 2.753579 \n",
      "\n",
      "Alternative hypothesis: true odds ratio is greater than 1\n",
      "p =  1.54087e-164 \n",
      "95% confidence interval:  2.441542 Inf \n",
      "\n",
      "\n",
      " \n",
      "$t\n",
      "   \n",
      "       0    1\n",
      "  0 8113 7970\n",
      "  1 1316 3352\n",
      "\n",
      "$prop.row\n",
      "   \n",
      "            0         1\n",
      "  0 0.5044457 0.4955543\n",
      "  1 0.2819195 0.7180805\n",
      "\n",
      "$prop.col\n",
      "   \n",
      "            0         1\n",
      "  0 0.8604306 0.7039392\n",
      "  1 0.1395694 0.2960608\n",
      "\n",
      "$prop.tbl\n",
      "   \n",
      "             0          1\n",
      "  0 0.39096911 0.38407788\n",
      "  1 0.06341863 0.16153438\n",
      "\n",
      "$chisq\n",
      "\n",
      "\tPearson's Chi-squared test\n",
      "\n",
      "data:  t\n",
      "X-squared = 722.62, df = 1, p-value < 2.2e-16\n",
      "\n",
      "\n",
      "$chisq.corr\n",
      "\n",
      "\tPearson's Chi-squared test with Yates' continuity correction\n",
      "\n",
      "data:  t\n",
      "X-squared = 721.72, df = 1, p-value < 2.2e-16\n",
      "\n",
      "\n",
      "$fisher.ts\n",
      "\n",
      "\tFisher's Exact Test for Count Data\n",
      "\n",
      "data:  t\n",
      "p-value < 2.2e-16\n",
      "alternative hypothesis: true odds ratio is not equal to 1\n",
      "95 percent confidence interval:\n",
      " 2.414365 2.785207\n",
      "sample estimates:\n",
      "odds ratio \n",
      "  2.592703 \n",
      "\n",
      "\n",
      "$fisher.tl\n",
      "\n",
      "\tFisher's Exact Test for Count Data\n",
      "\n",
      "data:  t\n",
      "p-value = 1\n",
      "alternative hypothesis: true odds ratio is less than 1\n",
      "95 percent confidence interval:\n",
      " 0.000000 2.753579\n",
      "sample estimates:\n",
      "odds ratio \n",
      "  2.592703 \n",
      "\n",
      "\n",
      "$fisher.gt\n",
      "\n",
      "\tFisher's Exact Test for Count Data\n",
      "\n",
      "data:  t\n",
      "p-value < 2.2e-16\n",
      "alternative hypothesis: true odds ratio is greater than 1\n",
      "95 percent confidence interval:\n",
      " 2.441542      Inf\n",
      "sample estimates:\n",
      "odds ratio \n",
      "  2.592703 \n",
      "\n",
      "\n"
     ]
    }
   ],
   "source": [
    "TABLE <- CrossTable(contingency_table, expected=TRUE, chisq=TRUE,\n",
    "                    prop.chisq=FALSE, prop.c=TRUE, prop.r=TRUE, fisher=TRUE)\n",
    "print(TABLE)"
   ]
  },
  {
   "cell_type": "markdown",
   "metadata": {
    "id": "HXqI0OX-Ub-A"
   },
   "source": [
    "Summary of Findings:Significant Association: Both Pearson's chi-squared test and Fisher's exact test show a highly significant association between the two variables.\n",
    "\n",
    "Odds Ratio: The odds ratio indicates a substantial difference in the likelihood of being in the response category between the two groups.\n",
    "\n",
    "Proportions: The proportions in the contingency table help understand the distribution and independence of the variables.\n",
    "\n",
    "Overall, the analysis provides strong evidence of a significant association between the two categorical variables, with a clear quantification of the strength of this association through the odds ratio."
   ]
  },
  {
   "cell_type": "markdown",
   "metadata": {
    "id": "J2B3KX40Vhhw"
   },
   "source": [
    "# Perform the Pearson Chi-Square test"
   ]
  },
  {
   "cell_type": "code",
   "execution_count": 9,
   "metadata": {
    "id": "_RXTcCyLUbhv"
   },
   "outputs": [],
   "source": [
    "chi_square_test <- chisq.test(contingency_table)"
   ]
  },
  {
   "cell_type": "markdown",
   "metadata": {
    "id": "PnBGUrS-Vml8"
   },
   "source": [
    "**Print the result of the Chi-Square test**"
   ]
  },
  {
   "cell_type": "code",
   "execution_count": 10,
   "metadata": {
    "colab": {
     "base_uri": "https://localhost:8080/"
    },
    "id": "J4k6QNFSVkHQ",
    "outputId": "21305527-13e0-4236-cf6e-598efee87e0e"
   },
   "outputs": [
    {
     "name": "stdout",
     "output_type": "stream",
     "text": [
      "\n",
      "\tPearson's Chi-squared test with Yates' continuity correction\n",
      "\n",
      "data:  contingency_table\n",
      "X-squared = 721.72, df = 1, p-value < 2.2e-16\n",
      "\n"
     ]
    }
   ],
   "source": [
    "print(chi_square_test)"
   ]
  },
  {
   "cell_type": "markdown",
   "metadata": {},
   "source": [
    "very strong evidence against the null hypothesis.null hypothesis: indepedance"
   ]
  },
  {
   "cell_type": "code",
   "execution_count": null,
   "metadata": {
    "colab": {
     "base_uri": "https://localhost:8080/"
    },
    "id": "QDVSlFN5VqfX",
    "outputId": "514fbaaf-3eed-4b60-f9e4-0989c97693aa"
   },
   "outputs": [],
   "source": [
    "lrt_result <- chisq.test(contingency_table, simulate.p.value = TRUE)\n",
    "print(lrt_result)"
   ]
  },
  {
   "cell_type": "markdown",
   "metadata": {
    "id": "RMYjzz-XVy3R"
   },
   "source": [
    "If the p-value is less than the significance level (0.05), you reject the null hypothesis.\n",
    "\n",
    "if the p-value is greater than the significance level, you fail to reject the null hypothesis.\n",
    "\n",
    "In our case, the p-value is 0.0004998, which is much smaller than 0.05."
   ]
  },
  {
   "cell_type": "markdown",
   "metadata": {
    "id": "107MmzxsWJ0i"
   },
   "source": [
    "# confidence interval"
   ]
  },
  {
   "cell_type": "code",
   "execution_count": 12,
   "metadata": {
    "colab": {
     "base_uri": "https://localhost:8080/"
    },
    "id": "3OBw-P14WNds",
    "outputId": "833320a3-422f-48df-f65f-e0e264ed1a97"
   },
   "outputs": [
    {
     "name": "stderr",
     "output_type": "stream",
     "text": [
      "Installing package into ‘/usr/local/lib/R/site-library’\n",
      "(as ‘lib’ is unspecified)\n",
      "\n"
     ]
    }
   ],
   "source": [
    "install.packages(\"epitools\")"
   ]
  },
  {
   "cell_type": "code",
   "execution_count": 13,
   "metadata": {
    "colab": {
     "base_uri": "https://localhost:8080/"
    },
    "id": "8Rupk_hLVxwi",
    "outputId": "5ecec3a1-ba46-4508-bb5c-fb409af5831d"
   },
   "outputs": [
    {
     "name": "stdout",
     "output_type": "stream",
     "text": [
      "   \n",
      "       0    1\n",
      "  0 8113 7970\n",
      "  1 1316 3352\n",
      "\n",
      "\tPearson's Chi-squared test with Yates' continuity correction\n",
      "\n",
      "data:  contingency_table\n",
      "X-squared = 721.72, df = 1, p-value < 2.2e-16\n",
      "\n"
     ]
    }
   ],
   "source": [
    "library(epitools)\n",
    "contingency_table <- table(df$poverty, df$non_white)\n",
    "print(contingency_table)\n",
    "pearson_test_result <- chisq.test(contingency_table)\n",
    "print(pearson_test_result)"
   ]
  },
  {
   "cell_type": "markdown",
   "metadata": {
    "id": "hqjcMO8SWWSU"
   },
   "source": [
    "**Calculate the odds ratio and its confidence interval**"
   ]
  },
  {
   "cell_type": "code",
   "execution_count": 14,
   "metadata": {
    "colab": {
     "base_uri": "https://localhost:8080/"
    },
    "id": "fq4FaTqkWMZv",
    "outputId": "df33a341-a2fd-49f9-e022-9ea41857c5fc"
   },
   "outputs": [
    {
     "name": "stdout",
     "output_type": "stream",
     "text": [
      "   odds ratio with 95% C.I.\n",
      "    estimate   lower   upper\n",
      "  0 1.000000      NA      NA\n",
      "  1 2.592536 2.41575 2.78362\n"
     ]
    }
   ],
   "source": [
    "odds_ratio_result <- oddsratio(contingency_table)\n",
    "print(odds_ratio_result$measure)"
   ]
  },
  {
   "cell_type": "markdown",
   "metadata": {
    "id": "6bXupar-Wa5c"
   },
   "source": [
    "Odds Ratio Estimate: 2.5925 Interpretation: Non-white individuals are approximately 2.59 times more likely to be in poverty compared to non-non-white (white) individuals.\n"
   ]
  },
  {
   "cell_type": "markdown",
   "metadata": {
    "id": "FTSaJfgXWoRo"
   },
   "source": [
    "**Calculate the risk ratio**"
   ]
  },
  {
   "cell_type": "code",
   "execution_count": 15,
   "metadata": {
    "colab": {
     "base_uri": "https://localhost:8080/"
    },
    "id": "QqwYNMwpWZOo",
    "outputId": "d082d380-9991-4b5a-b1e1-8425543d552c"
   },
   "outputs": [
    {
     "name": "stdout",
     "output_type": "stream",
     "text": [
      "   risk ratio with 95% C.I.\n",
      "    estimate    lower    upper\n",
      "  0 1.000000       NA       NA\n",
      "  1 1.449045 1.414971 1.483939\n"
     ]
    }
   ],
   "source": [
    "risk_ratio_result <- riskratio(contingency_table)\n",
    "print(risk_ratio_result$measure)"
   ]
  },
  {
   "cell_type": "markdown",
   "metadata": {
    "id": "t8C0sUx9Wv-Y"
   },
   "source": [
    "Risk Ratio Estimate: 1.4490 Interpretation: The risk of poverty is approximately 1.45 times higher for non-white individuals compared to non-non-white (white) individuals."
   ]
  },
  {
   "cell_type": "markdown",
   "metadata": {
    "id": "qUNhQCD1W1Su"
   },
   "source": [
    "# difference of proportions"
   ]
  },
  {
   "cell_type": "code",
   "execution_count": 16,
   "metadata": {
    "colab": {
     "base_uri": "https://localhost:8080/"
    },
    "id": "ORW4KEaDWvUR",
    "outputId": "a1673bb0-d330-4403-8938-f1827e0aea26"
   },
   "outputs": [
    {
     "name": "stdout",
     "output_type": "stream",
     "text": [
      "   \n",
      "       0    1\n",
      "  0 8113 7970\n",
      "  1 1316 3352\n"
     ]
    }
   ],
   "source": [
    "contingency_table <- table(df$poverty, df$non_white)\n",
    "print(contingency_table)"
   ]
  },
  {
   "cell_type": "markdown",
   "metadata": {
    "id": "_xwEPqg1W5u-"
   },
   "source": [
    "**Extract counts for the two proportions**"
   ]
  },
  {
   "cell_type": "code",
   "execution_count": 17,
   "metadata": {
    "id": "6Rm_Cl0WW3RA"
   },
   "outputs": [],
   "source": [
    "count_poverty_non_white <- contingency_table[2, 2]  # Non-White and in Poverty\n",
    "count_non_poverty_non_white <- contingency_table[1, 2]  # Non-White not in Poverty\n",
    "count_poverty <- sum(contingency_table[2, ])  # Total in Poverty\n",
    "count_non_poverty <- sum(contingency_table[1, ])  # Total not in Poverty"
   ]
  },
  {
   "cell_type": "markdown",
   "metadata": {
    "id": "y86mWhfFW_w-"
   },
   "source": [
    "**Create vectors of successes and trials**"
   ]
  },
  {
   "cell_type": "code",
   "execution_count": 18,
   "metadata": {
    "id": "cfNmkTg3W9F9"
   },
   "outputs": [],
   "source": [
    "successes <- c(count_poverty_non_white, count_non_poverty_non_white)\n",
    "trials <- c(count_poverty, count_non_poverty)"
   ]
  },
  {
   "cell_type": "markdown",
   "metadata": {
    "id": "lMtQ-JNbXJh6"
   },
   "source": [
    "Successes: The number of occurrences of the event of interest in each group.\n",
    "\n",
    "Trials: The total number of observations or trials in each group.\n",
    "\n",
    "**Perform the two-proportion test**"
   ]
  },
  {
   "cell_type": "code",
   "execution_count": 19,
   "metadata": {
    "colab": {
     "base_uri": "https://localhost:8080/"
    },
    "id": "g-d8R_TtXH3_",
    "outputId": "d9105b50-a71e-42f8-d345-7f9cd7cfbe7c"
   },
   "outputs": [
    {
     "name": "stdout",
     "output_type": "stream",
     "text": [
      "\n",
      "\t2-sample test for equality of proportions with continuity correction\n",
      "\n",
      "data:  successes out of trials\n",
      "X-squared = 721.72, df = 1, p-value < 2.2e-16\n",
      "alternative hypothesis: two.sided\n",
      "95 percent confidence interval:\n",
      " 0.2073446 0.2377078\n",
      "sample estimates:\n",
      "   prop 1    prop 2 \n",
      "0.7180805 0.4955543 \n",
      "\n"
     ]
    }
   ],
   "source": [
    "prop_test_result <- prop.test(successes, trials)\n",
    "print(prop_test_result)"
   ]
  },
  {
   "cell_type": "markdown",
   "metadata": {
    "id": "KqaPMXmbXXul"
   },
   "source": [
    "X-squared = 721.72: This is the chi-squared test statistic. It measures the difference between the observed and expected proportions under the null hypothesis.\n",
    "\n",
    "3. Degrees of Freedom\n",
    "df = 1: The degrees of freedom for this test. For a two-sample proportion test, the degrees of freedom are typically 1.\n",
    "4. P-value: p-value < 2.2e-16: The p-value is extremely small, indicating that the observed difference in proportions is highly unlikely to have occurred by chance. This strong evidence suggests rejecting the null hypothesis that the proportions are equal.\n",
    "\n",
    "5. Alternative Hypothesis: alternative hypothesis: two.sided: The test is two-sided, meaning it checks for differences in both directions (whether one proportion is greater or less than the other).\n",
    "6. Confidence Interval: 95 percent confidence interval: 0.2073446 to 0.2377078: This interval estimates the range within which the true difference in proportions lies with 95% confidence. Since the interval does not include 0 and is entirely positive, it indicates a significant difference between the two proportions, with the first group having a higher proportion than the second group.\n",
    "\n",
    "7. Sample Estimates:\n",
    "\n",
    "prop 1 = 0.7180805: The proportion of successes in the first group.\n",
    "\n",
    "prop 2 = 0.4955543: The proportion of successes in the second group."
   ]
  },
  {
   "cell_type": "markdown",
   "metadata": {
    "id": "tFrSBsRnXpm6"
   },
   "source": [
    "# Measures of Association (e.g., Phi Coefficient)"
   ]
  },
  {
   "cell_type": "code",
   "execution_count": 20,
   "metadata": {
    "colab": {
     "base_uri": "https://localhost:8080/"
    },
    "id": "ffNuwDxxXyCm",
    "outputId": "fe312c89-b1f3-4af5-cc10-c4ed6c9a1f69"
   },
   "outputs": [
    {
     "name": "stderr",
     "output_type": "stream",
     "text": [
      "Installing package into ‘/usr/local/lib/R/site-library’\n",
      "(as ‘lib’ is unspecified)\n",
      "\n",
      "also installing the dependencies ‘zoo’, ‘lmtest’\n",
      "\n",
      "\n"
     ]
    }
   ],
   "source": [
    "install.packages(\"vcd\")"
   ]
  },
  {
   "cell_type": "code",
   "execution_count": 21,
   "metadata": {
    "colab": {
     "base_uri": "https://localhost:8080/"
    },
    "id": "P8-8iMrEXTG7",
    "outputId": "e386babf-4b5a-4747-bc42-bad4b3352139"
   },
   "outputs": [
    {
     "name": "stderr",
     "output_type": "stream",
     "text": [
      "Loading required package: grid\n",
      "\n",
      "\n",
      "Attaching package: ‘vcd’\n",
      "\n",
      "\n",
      "The following object is masked from ‘package:epitools’:\n",
      "\n",
      "    oddsratio\n",
      "\n",
      "\n"
     ]
    },
    {
     "name": "stdout",
     "output_type": "stream",
     "text": [
      "   \n",
      "       0    1\n",
      "  0 8113 7970\n",
      "  1 1316 3352\n"
     ]
    }
   ],
   "source": [
    "library(vcd)\n",
    "contingency_table <- table(df$poverty, df$non_white)\n",
    "print(contingency_table)"
   ]
  },
  {
   "cell_type": "markdown",
   "metadata": {
    "id": "o1rdQ7bUX9Y2"
   },
   "source": [
    "**Compute association statistics**"
   ]
  },
  {
   "cell_type": "code",
   "execution_count": 22,
   "metadata": {
    "colab": {
     "base_uri": "https://localhost:8080/"
    },
    "id": "bv4ySkpkXvUQ",
    "outputId": "ad780dc9-5e6b-47e9-c627-eb82b22fa098"
   },
   "outputs": [
    {
     "name": "stdout",
     "output_type": "stream",
     "text": [
      "                    X^2 df P(> X^2)\n",
      "Likelihood Ratio 746.91  1        0\n",
      "Pearson          722.62  1        0\n",
      "\n",
      "Phi-Coefficient   : 0.187 \n",
      "Contingency Coeff.: 0.183 \n",
      "Cramer's V        : 0.187 \n"
     ]
    }
   ],
   "source": [
    "association_stats <- assocstats(contingency_table)\n",
    "print(association_stats)"
   ]
  },
  {
   "cell_type": "markdown",
   "metadata": {
    "id": "5J-0wmm6YB8s"
   },
   "source": [
    "**Phi coefficient for 2x2 tables**"
   ]
  },
  {
   "cell_type": "code",
   "execution_count": 23,
   "metadata": {
    "colab": {
     "base_uri": "https://localhost:8080/"
    },
    "id": "ngKaaz-gYAV7",
    "outputId": "0a3b9a68-5b8b-44ad-adda-729cbf75bfab"
   },
   "outputs": [
    {
     "name": "stdout",
     "output_type": "stream",
     "text": [
      "[1] \"Phi Coefficient: 0.18661037442791\"\n"
     ]
    }
   ],
   "source": [
    "phi_coefficient <- association_stats$phi\n",
    "print(paste(\"Phi Coefficient:\", phi_coefficient))"
   ]
  },
  {
   "cell_type": "markdown",
   "metadata": {
    "id": "BMKC2iNbYKYS"
   },
   "source": [
    "**Perform Fisher's Exact Test**"
   ]
  },
  {
   "cell_type": "code",
   "execution_count": 24,
   "metadata": {
    "colab": {
     "base_uri": "https://localhost:8080/"
    },
    "id": "cW13ek3NYEZ4",
    "outputId": "ef4b89d2-308a-4bac-8645-15f381befa7c"
   },
   "outputs": [
    {
     "name": "stdout",
     "output_type": "stream",
     "text": [
      "   \n",
      "       0    1\n",
      "  0 8113 7970\n",
      "  1 1316 3352\n",
      "\n",
      "\tFisher's Exact Test for Count Data\n",
      "\n",
      "data:  contingency_table\n",
      "p-value < 2.2e-16\n",
      "alternative hypothesis: true odds ratio is not equal to 1\n",
      "95 percent confidence interval:\n",
      " 2.414365 2.785207\n",
      "sample estimates:\n",
      "odds ratio \n",
      "  2.592703 \n",
      "\n"
     ]
    }
   ],
   "source": [
    "contingency_table <- table(df$poverty, df$non_white)\n",
    "print(contingency_table)\n",
    "fisher_test <- fisher.test(contingency_table)\n",
    "print(fisher_test)"
   ]
  },
  {
   "cell_type": "markdown",
   "metadata": {
    "id": "K4DNDi-WR27w"
   },
   "source": [
    "**Contingency 3**"
   ]
  },
  {
   "cell_type": "code",
   "execution_count": 25,
   "metadata": {
    "colab": {
     "base_uri": "https://localhost:8080/"
    },
    "id": "iFhs4fHfR67P",
    "outputId": "7551463a-92b7-457d-e805-cd0a8aa5dc01"
   },
   "outputs": [
    {
     "name": "stderr",
     "output_type": "stream",
     "text": [
      "Installing package into ‘/usr/local/lib/R/site-library’\n",
      "(as ‘lib’ is unspecified)\n",
      "\n",
      "also installing the dependencies ‘R.methodsS3’, ‘R.oo’, ‘R.utils’, ‘proxy’, ‘R.cache’, ‘e1071’, ‘styler’, ‘classInt’, ‘labelled’\n",
      "\n",
      "\n",
      "Installing package into ‘/usr/local/lib/R/site-library’\n",
      "(as ‘lib’ is unspecified)\n",
      "\n",
      "also installing the dependencies ‘rootSolve’, ‘lmom’, ‘mvtnorm’, ‘expm’, ‘Exact’, ‘gld’\n",
      "\n",
      "\n"
     ]
    }
   ],
   "source": [
    "install.packages(\"questionr\")\n",
    "install.packages(\"DescTools\")"
   ]
  },
  {
   "cell_type": "code",
   "execution_count": 26,
   "metadata": {
    "colab": {
     "base_uri": "https://localhost:8080/"
    },
    "id": "IjbReE3xYM-W",
    "outputId": "d4f251cb-64e8-4e40-9e2b-b50538fefb24"
   },
   "outputs": [
    {
     "name": "stderr",
     "output_type": "stream",
     "text": [
      "\n",
      "Attaching package: ‘dplyr’\n",
      "\n",
      "\n",
      "The following objects are masked from ‘package:stats’:\n",
      "\n",
      "    filter, lag\n",
      "\n",
      "\n",
      "The following objects are masked from ‘package:base’:\n",
      "\n",
      "    intersect, setdiff, setequal, union\n",
      "\n",
      "\n",
      "Registered S3 method overwritten by 'DescTools':\n",
      "  method         from \n",
      "  reorder.factor gdata\n",
      "\n"
     ]
    }
   ],
   "source": [
    "library(dplyr)\n",
    "library(questionr)\n",
    "library(DescTools)"
   ]
  },
  {
   "cell_type": "markdown",
   "metadata": {
    "id": "WhCOQShwTAci"
   },
   "source": [
    "**Create the contingency table with poverty as the dependent variable and woman and non_white as independent variables**"
   ]
  },
  {
   "cell_type": "code",
   "execution_count": 27,
   "metadata": {
    "colab": {
     "base_uri": "https://localhost:8080/"
    },
    "id": "47nB6UAOR5jP",
    "outputId": "37f8fbff-9a1b-410a-f6b3-16ae64c4bbc7"
   },
   "outputs": [
    {
     "name": "stdout",
     "output_type": "stream",
     "text": [
      ", , Poverty = No\n",
      "\n",
      "     NonWhite\n",
      "Woman   No  Yes\n",
      "  No  4649 4783\n",
      "  Yes 3464 3187\n",
      "\n",
      ", , Poverty = Yes\n",
      "\n",
      "     NonWhite\n",
      "Woman   No  Yes\n",
      "  No   886 2266\n",
      "  Yes  430 1086\n",
      "\n"
     ]
    }
   ],
   "source": [
    "TabPoverty = table(df$woman, df$non_white, df$poverty)\n",
    "dimnames(TabPoverty) = list(\n",
    "  Woman = c(\"No\", \"Yes\"),\n",
    "  NonWhite = c(\"No\", \"Yes\"),\n",
    "  Poverty = c(\"No\", \"Yes\")\n",
    ")\n",
    "\n",
    "print(TabPoverty)"
   ]
  },
  {
   "cell_type": "markdown",
   "metadata": {
    "id": "Drw5f9iOTGjK"
   },
   "source": [
    "**Two-way tables for different combinations**"
   ]
  },
  {
   "cell_type": "code",
   "execution_count": 28,
   "metadata": {
    "id": "Jz7ve_zwTD94"
   },
   "outputs": [],
   "source": [
    "TabWomanNo = TabPoverty[\"No\", , ]\n",
    "TabWomanYes = TabPoverty[\"Yes\", , ]\n",
    "TabNonWhiteNo = TabPoverty[, \"No\", ]\n",
    "TabNonWhiteYes = TabPoverty[, \"Yes\", ]"
   ]
  },
  {
   "cell_type": "markdown",
   "metadata": {
    "id": "O5YeVbQOTPrQ"
   },
   "source": [
    "**Combined table**"
   ]
  },
  {
   "cell_type": "code",
   "execution_count": 29,
   "metadata": {
    "id": "f6MdljmMTJXT"
   },
   "outputs": [],
   "source": [
    "TabCombined = TabWomanNo + TabWomanYes"
   ]
  },
  {
   "cell_type": "markdown",
   "metadata": {
    "id": "d-McrJyxTTzK"
   },
   "source": [
    "**Odds ratios**"
   ]
  },
  {
   "cell_type": "code",
   "execution_count": 31,
   "metadata": {
    "colab": {
     "base_uri": "https://localhost:8080/"
    },
    "id": "Q8pRFne6TR7L",
    "outputId": "775e7bac-9872-418b-ac80-3b9cbf9be1f7"
   },
   "outputs": [
    {
     "name": "stdout",
     "output_type": "stream",
     "text": [
      "[1] 2.592813\n"
     ]
    }
   ],
   "source": [
    "oddsratio_combined = (TabCombined[1,1] * TabCombined[2, 2]) / (TabCombined[1,2]\n",
    "                       * TabCombined[2, 1])\n",
    "print(oddsratio_combined)"
   ]
  },
  {
   "cell_type": "code",
   "execution_count": 32,
   "metadata": {
    "colab": {
     "base_uri": "https://localhost:8080/",
     "height": 129
    },
    "id": "HehzjkiRTX9O",
    "outputId": "45f50f50-9273-40ef-bd7b-d8f27a891754"
   },
   "outputs": [
    {
     "data": {
      "text/html": [
       "<table class=\"dataframe\">\n",
       "<caption>A odds.ratio: 1 × 4</caption>\n",
       "<thead>\n",
       "\t<tr><th></th><th scope=col>OR</th><th scope=col>2.5 %</th><th scope=col>97.5 %</th><th scope=col>p</th></tr>\n",
       "\t<tr><th></th><th scope=col>&lt;dbl&gt;</th><th scope=col>&lt;dbl&gt;</th><th scope=col>&lt;dbl&gt;</th><th scope=col>&lt;dbl&gt;</th></tr>\n",
       "</thead>\n",
       "<tbody>\n",
       "\t<tr><th scope=row>Fisher's test</th><td>2.592703</td><td>2.414365</td><td>2.785207</td><td>2.174958e-164</td></tr>\n",
       "</tbody>\n",
       "</table>\n"
      ],
      "text/latex": [
       "A odds.ratio: 1 × 4\n",
       "\\begin{tabular}{r|llll}\n",
       "  & OR & 2.5 \\% & 97.5 \\% & p\\\\\n",
       "  & <dbl> & <dbl> & <dbl> & <dbl>\\\\\n",
       "\\hline\n",
       "\tFisher's test & 2.592703 & 2.414365 & 2.785207 & 2.174958e-164\\\\\n",
       "\\end{tabular}\n"
      ],
      "text/markdown": [
       "\n",
       "A odds.ratio: 1 × 4\n",
       "\n",
       "| <!--/--> | OR &lt;dbl&gt; | 2.5 % &lt;dbl&gt; | 97.5 % &lt;dbl&gt; | p &lt;dbl&gt; |\n",
       "|---|---|---|---|---|\n",
       "| Fisher's test | 2.592703 | 2.414365 | 2.785207 | 2.174958e-164 |\n",
       "\n"
      ],
      "text/plain": [
       "              OR       2.5 %    97.5 %   p            \n",
       "Fisher's test 2.592703 2.414365 2.785207 2.174958e-164"
      ]
     },
     "metadata": {},
     "output_type": "display_data"
    }
   ],
   "source": [
    "odds.ratio(TabCombined)"
   ]
  },
  {
   "cell_type": "code",
   "execution_count": 44,
   "metadata": {
    "colab": {
     "base_uri": "https://localhost:8080/",
     "height": 147
    },
    "id": "SNcvYSbuTaRq",
    "outputId": "2f31c234-cc4a-4986-e289-c623116b348c"
   },
   "outputs": [
    {
     "name": "stdout",
     "output_type": "stream",
     "text": [
      "[1] 2.48591\n"
     ]
    },
    {
     "data": {
      "text/html": [
       "<table class=\"dataframe\">\n",
       "<caption>A odds.ratio: 1 × 4</caption>\n",
       "<thead>\n",
       "\t<tr><th></th><th scope=col>OR</th><th scope=col>2.5 %</th><th scope=col>97.5 %</th><th scope=col>p</th></tr>\n",
       "\t<tr><th></th><th scope=col>&lt;dbl&gt;</th><th scope=col>&lt;dbl&gt;</th><th scope=col>&lt;dbl&gt;</th><th scope=col>&lt;dbl&gt;</th></tr>\n",
       "</thead>\n",
       "<tbody>\n",
       "\t<tr><th scope=row>Fisher's test</th><td>2.485741</td><td>2.275791</td><td>2.716327</td><td>1.79216e-98</td></tr>\n",
       "</tbody>\n",
       "</table>\n"
      ],
      "text/latex": [
       "A odds.ratio: 1 × 4\n",
       "\\begin{tabular}{r|llll}\n",
       "  & OR & 2.5 \\% & 97.5 \\% & p\\\\\n",
       "  & <dbl> & <dbl> & <dbl> & <dbl>\\\\\n",
       "\\hline\n",
       "\tFisher's test & 2.485741 & 2.275791 & 2.716327 & 1.79216e-98\\\\\n",
       "\\end{tabular}\n"
      ],
      "text/markdown": [
       "\n",
       "A odds.ratio: 1 × 4\n",
       "\n",
       "| <!--/--> | OR &lt;dbl&gt; | 2.5 % &lt;dbl&gt; | 97.5 % &lt;dbl&gt; | p &lt;dbl&gt; |\n",
       "|---|---|---|---|---|\n",
       "| Fisher's test | 2.485741 | 2.275791 | 2.716327 | 1.79216e-98 |\n",
       "\n"
      ],
      "text/plain": [
       "              OR       2.5 %    97.5 %   p          \n",
       "Fisher's test 2.485741 2.275791 2.716327 1.79216e-98"
      ]
     },
     "metadata": {},
     "output_type": "display_data"
    }
   ],
   "source": [
    "oddsratio_woman_no = (TabWomanNo[1, 1] * TabWomanNo[2, 2]) /\n",
    "                      (TabWomanNo[1, 2] * TabWomanNo[2, 1])\n",
    "print(oddsratio_woman_no)\n",
    "odds.ratio(TabWomanNo)"
   ]
  },
  {
   "cell_type": "code",
   "execution_count": 45,
   "metadata": {
    "colab": {
     "base_uri": "https://localhost:8080/",
     "height": 147
    },
    "id": "6m6bL0pTTde-",
    "outputId": "9062cd8f-6b49-490b-f2a3-a10dc5f4a7e8"
   },
   "outputs": [
    {
     "name": "stdout",
     "output_type": "stream",
     "text": [
      "[1] 2.745094\n"
     ]
    },
    {
     "data": {
      "text/html": [
       "<table class=\"dataframe\">\n",
       "<caption>A odds.ratio: 1 × 4</caption>\n",
       "<thead>\n",
       "\t<tr><th></th><th scope=col>OR</th><th scope=col>2.5 %</th><th scope=col>97.5 %</th><th scope=col>p</th></tr>\n",
       "\t<tr><th></th><th scope=col>&lt;dbl&gt;</th><th scope=col>&lt;dbl&gt;</th><th scope=col>&lt;dbl&gt;</th><th scope=col>&lt;dbl&gt;</th></tr>\n",
       "</thead>\n",
       "<tbody>\n",
       "\t<tr><th scope=row>Fisher's test</th><td>2.744768</td><td>2.427277</td><td>3.107434</td><td>2.499882e-64</td></tr>\n",
       "</tbody>\n",
       "</table>\n"
      ],
      "text/latex": [
       "A odds.ratio: 1 × 4\n",
       "\\begin{tabular}{r|llll}\n",
       "  & OR & 2.5 \\% & 97.5 \\% & p\\\\\n",
       "  & <dbl> & <dbl> & <dbl> & <dbl>\\\\\n",
       "\\hline\n",
       "\tFisher's test & 2.744768 & 2.427277 & 3.107434 & 2.499882e-64\\\\\n",
       "\\end{tabular}\n"
      ],
      "text/markdown": [
       "\n",
       "A odds.ratio: 1 × 4\n",
       "\n",
       "| <!--/--> | OR &lt;dbl&gt; | 2.5 % &lt;dbl&gt; | 97.5 % &lt;dbl&gt; | p &lt;dbl&gt; |\n",
       "|---|---|---|---|---|\n",
       "| Fisher's test | 2.744768 | 2.427277 | 3.107434 | 2.499882e-64 |\n",
       "\n"
      ],
      "text/plain": [
       "              OR       2.5 %    97.5 %   p           \n",
       "Fisher's test 2.744768 2.427277 3.107434 2.499882e-64"
      ]
     },
     "metadata": {},
     "output_type": "display_data"
    }
   ],
   "source": [
    "oddsratio_woman_yes = (TabWomanYes[1, 1] * TabWomanYes[2, 2]) /\n",
    "                        (TabWomanYes[1, 2] * TabWomanYes[2, 1])\n",
    "print(oddsratio_woman_yes)\n",
    "odds.ratio(TabWomanYes)"
   ]
  },
  {
   "cell_type": "code",
   "execution_count": 46,
   "metadata": {
    "colab": {
     "base_uri": "https://localhost:8080/",
     "height": 147
    },
    "id": "hUAV7qTJTgYq",
    "outputId": "4a959d59-1331-41cc-f887-3ad70889f2ef"
   },
   "outputs": [
    {
     "name": "stdout",
     "output_type": "stream",
     "text": [
      "[1] 0.651353\n"
     ]
    },
    {
     "data": {
      "text/html": [
       "<table class=\"dataframe\">\n",
       "<caption>A odds.ratio: 1 × 4</caption>\n",
       "<thead>\n",
       "\t<tr><th></th><th scope=col>OR</th><th scope=col>2.5 %</th><th scope=col>97.5 %</th><th scope=col>p</th></tr>\n",
       "\t<tr><th></th><th scope=col>&lt;dbl&gt;</th><th scope=col>&lt;dbl&gt;</th><th scope=col>&lt;dbl&gt;</th><th scope=col>&lt;dbl&gt;</th></tr>\n",
       "</thead>\n",
       "<tbody>\n",
       "\t<tr><th scope=row>Fisher's test</th><td>0.651384</td><td>0.5743909</td><td>0.7379622</td><td>5.334033e-12</td></tr>\n",
       "</tbody>\n",
       "</table>\n"
      ],
      "text/latex": [
       "A odds.ratio: 1 × 4\n",
       "\\begin{tabular}{r|llll}\n",
       "  & OR & 2.5 \\% & 97.5 \\% & p\\\\\n",
       "  & <dbl> & <dbl> & <dbl> & <dbl>\\\\\n",
       "\\hline\n",
       "\tFisher's test & 0.651384 & 0.5743909 & 0.7379622 & 5.334033e-12\\\\\n",
       "\\end{tabular}\n"
      ],
      "text/markdown": [
       "\n",
       "A odds.ratio: 1 × 4\n",
       "\n",
       "| <!--/--> | OR &lt;dbl&gt; | 2.5 % &lt;dbl&gt; | 97.5 % &lt;dbl&gt; | p &lt;dbl&gt; |\n",
       "|---|---|---|---|---|\n",
       "| Fisher's test | 0.651384 | 0.5743909 | 0.7379622 | 5.334033e-12 |\n",
       "\n"
      ],
      "text/plain": [
       "              OR       2.5 %     97.5 %    p           \n",
       "Fisher's test 0.651384 0.5743909 0.7379622 5.334033e-12"
      ]
     },
     "metadata": {},
     "output_type": "display_data"
    }
   ],
   "source": [
    "oddsratio_nonwhite_no = (TabNonWhiteNo[1, 1] * TabNonWhiteNo[2, 2]) /\n",
    "                          (TabNonWhiteNo[1, 2] * TabNonWhiteNo[2, 1])\n",
    "print(oddsratio_nonwhite_no)\n",
    "odds.ratio(TabNonWhiteNo)"
   ]
  },
  {
   "cell_type": "code",
   "execution_count": 47,
   "metadata": {
    "colab": {
     "base_uri": "https://localhost:8080/",
     "height": 147
    },
    "id": "Le1sn5QPTh27",
    "outputId": "9d2f0152-a057-4f5d-a182-9bb03bbff2eb"
   },
   "outputs": [
    {
     "name": "stdout",
     "output_type": "stream",
     "text": [
      "[1] 0.7192639\n"
     ]
    },
    {
     "data": {
      "text/html": [
       "<table class=\"dataframe\">\n",
       "<caption>A odds.ratio: 1 × 4</caption>\n",
       "<thead>\n",
       "\t<tr><th></th><th scope=col>OR</th><th scope=col>2.5 %</th><th scope=col>97.5 %</th><th scope=col>p</th></tr>\n",
       "\t<tr><th></th><th scope=col>&lt;dbl&gt;</th><th scope=col>&lt;dbl&gt;</th><th scope=col>&lt;dbl&gt;</th><th scope=col>&lt;dbl&gt;</th></tr>\n",
       "</thead>\n",
       "<tbody>\n",
       "\t<tr><th scope=row>Fisher's test</th><td>0.7192879</td><td>0.6599156</td><td>0.7837614</td><td>2.348492e-14</td></tr>\n",
       "</tbody>\n",
       "</table>\n"
      ],
      "text/latex": [
       "A odds.ratio: 1 × 4\n",
       "\\begin{tabular}{r|llll}\n",
       "  & OR & 2.5 \\% & 97.5 \\% & p\\\\\n",
       "  & <dbl> & <dbl> & <dbl> & <dbl>\\\\\n",
       "\\hline\n",
       "\tFisher's test & 0.7192879 & 0.6599156 & 0.7837614 & 2.348492e-14\\\\\n",
       "\\end{tabular}\n"
      ],
      "text/markdown": [
       "\n",
       "A odds.ratio: 1 × 4\n",
       "\n",
       "| <!--/--> | OR &lt;dbl&gt; | 2.5 % &lt;dbl&gt; | 97.5 % &lt;dbl&gt; | p &lt;dbl&gt; |\n",
       "|---|---|---|---|---|\n",
       "| Fisher's test | 0.7192879 | 0.6599156 | 0.7837614 | 2.348492e-14 |\n",
       "\n"
      ],
      "text/plain": [
       "              OR        2.5 %     97.5 %    p           \n",
       "Fisher's test 0.7192879 0.6599156 0.7837614 2.348492e-14"
      ]
     },
     "metadata": {},
     "output_type": "display_data"
    }
   ],
   "source": [
    "oddsratio_nonwhite_yes = (TabNonWhiteYes[1, 1] * TabNonWhiteYes[2, 2]) /\n",
    "                          (TabNonWhiteYes[1, 2] * TabNonWhiteYes[2, 1])\n",
    "print(oddsratio_nonwhite_yes)\n",
    "odds.ratio(TabNonWhiteYes)"
   ]
  },
  {
   "cell_type": "markdown",
   "metadata": {
    "id": "H1UAZqSjUWfT"
   },
   "source": [
    "# Chi-squared tests"
   ]
  },
  {
   "cell_type": "code",
   "execution_count": 48,
   "metadata": {
    "colab": {
     "base_uri": "https://localhost:8080/",
     "height": 451
    },
    "id": "tEnY0FTTTmmm",
    "outputId": "22fd9c6d-0f50-40d2-a23f-a908f8f24baa"
   },
   "outputs": [
    {
     "data": {
      "text/plain": [
       "\n",
       "\tPearson's Chi-squared test with Yates' continuity correction\n",
       "\n",
       "data:  TabCombined\n",
       "X-squared = 721.72, df = 1, p-value < 2.2e-16\n"
      ]
     },
     "metadata": {},
     "output_type": "display_data"
    },
    {
     "data": {
      "text/plain": [
       "\n",
       "\tPearson's Chi-squared test with Yates' continuity correction\n",
       "\n",
       "data:  TabWomanNo\n",
       "X-squared = 429.31, df = 1, p-value < 2.2e-16\n"
      ]
     },
     "metadata": {},
     "output_type": "display_data"
    },
    {
     "data": {
      "text/plain": [
       "\n",
       "\tPearson's Chi-squared test with Yates' continuity correction\n",
       "\n",
       "data:  TabWomanYes\n",
       "X-squared = 277.46, df = 1, p-value < 2.2e-16\n"
      ]
     },
     "metadata": {},
     "output_type": "display_data"
    },
    {
     "data": {
      "text/plain": [
       "\n",
       "\tPearson's Chi-squared test with Yates' continuity correction\n",
       "\n",
       "data:  TabNonWhiteNo\n",
       "X-squared = 46.502, df = 1, p-value = 9.151e-12\n"
      ]
     },
     "metadata": {},
     "output_type": "display_data"
    },
    {
     "data": {
      "text/plain": [
       "\n",
       "\tPearson's Chi-squared test with Yates' continuity correction\n",
       "\n",
       "data:  TabNonWhiteYes\n",
       "X-squared = 57.511, df = 1, p-value = 3.361e-14\n"
      ]
     },
     "metadata": {},
     "output_type": "display_data"
    }
   ],
   "source": [
    "chisq.test(TabCombined, correct = TRUE)\n",
    "chisq.test(TabWomanNo, correct = TRUE)\n",
    "chisq.test(TabWomanYes, correct = TRUE)\n",
    "chisq.test(TabNonWhiteNo, correct = TRUE)\n",
    "chisq.test(TabNonWhiteYes, correct = TRUE)"
   ]
  },
  {
   "cell_type": "markdown",
   "metadata": {
    "id": "E5APCec6VaVF"
   },
   "source": [
    "# GLM"
   ]
  },
  {
   "cell_type": "code",
   "execution_count": 50,
   "metadata": {
    "colab": {
     "base_uri": "https://localhost:8080/"
    },
    "id": "RE7RPLqQUTfX",
    "outputId": "7940cdff-6d48-473c-80e6-dac2fd8a89a4"
   },
   "outputs": [
    {
     "name": "stderr",
     "output_type": "stream",
     "text": [
      "The following objects are masked from df (pos = 3):\n",
      "\n",
      "    age, education, metropolitan_area, non_white, poverty, urban,\n",
      "    woman, work, work_permit\n",
      "\n",
      "\n",
      "The following objects are masked from df (pos = 5):\n",
      "\n",
      "    age, education, metropolitan_area, non_white, poverty, urban,\n",
      "    woman, work, work_permit\n",
      "\n",
      "\n",
      "The following objects are masked from df (pos = 13):\n",
      "\n",
      "    age, education, metropolitan_area, non_white, poverty, urban,\n",
      "    woman, work, work_permit\n",
      "\n",
      "\n"
     ]
    }
   ],
   "source": [
    "library(readxl)\n",
    "attach(df)"
   ]
  },
  {
   "cell_type": "code",
   "execution_count": 51,
   "metadata": {
    "colab": {
     "base_uri": "https://localhost:8080/"
    },
    "id": "hDJ8hOu5Uho-",
    "outputId": "570f251b-b867-4a50-fdfa-03e647358e8d"
   },
   "outputs": [
    {
     "name": "stderr",
     "output_type": "stream",
     "text": [
      "Installing package into ‘/usr/local/lib/R/site-library’\n",
      "(as ‘lib’ is unspecified)\n",
      "\n"
     ]
    }
   ],
   "source": [
    "install.packages(\"fastDummies\")"
   ]
  },
  {
   "cell_type": "code",
   "execution_count": 52,
   "metadata": {
    "id": "zhMAPqZZUbhr"
   },
   "outputs": [],
   "source": [
    "library(fastDummies)\n",
    "df1 <- dummy_cols(df,select_columns = c(\"education\",\"work\",\"work_permit\"),\n",
    "                  remove_selected_columns = TRUE,\n",
    "                  remove_most_frequent_dummy = TRUE)"
   ]
  },
  {
   "cell_type": "code",
   "execution_count": 53,
   "metadata": {
    "id": "grMbxjPwUgPf"
   },
   "outputs": [],
   "source": [
    "full_model <- glm(poverty ~ .,data = df1[1:24],\n",
    "              family = binomial(link = \"logit\" ))\n",
    "reduced_model <- glm(poverty ~ .,data = df1[2:24],\n",
    "                family = binomial(link = \"logit\" ))"
   ]
  },
  {
   "cell_type": "code",
   "execution_count": 54,
   "metadata": {
    "colab": {
     "base_uri": "https://localhost:8080/"
    },
    "id": "WSRf_-D0UwUi",
    "outputId": "ca8f9cfb-ca99-431f-8ab8-1bbcfc31fb4c"
   },
   "outputs": [
    {
     "name": "stderr",
     "output_type": "stream",
     "text": [
      "Installing package into ‘/usr/local/lib/R/site-library’\n",
      "(as ‘lib’ is unspecified)\n",
      "\n"
     ]
    }
   ],
   "source": [
    "install.packages(\"jtools\")"
   ]
  },
  {
   "cell_type": "code",
   "execution_count": 55,
   "metadata": {
    "colab": {
     "base_uri": "https://localhost:8080/",
     "height": 1000
    },
    "id": "qSH0cv4aUtWS",
    "outputId": "56fca8e2-5111-4855-e47e-91c50648f66c"
   },
   "outputs": [
    {
     "name": "stderr",
     "output_type": "stream",
     "text": [
      "\n",
      "Attaching package: ‘jtools’\n",
      "\n",
      "\n",
      "The following object is masked from ‘package:DescTools’:\n",
      "\n",
      "    %nin%\n",
      "\n",
      "\n"
     ]
    },
    {
     "data": {
      "text/plain": [
       "\u001b[4mMODEL INFO:\u001b[24m\n",
       "\u001b[3mObservations:\u001b[23m 20751 (1 missing obs. deleted)\n",
       "\u001b[3mDependent Variable:\u001b[23m poverty\n",
       "\u001b[3mType:\u001b[23m Generalized linear model\n",
       "  \u001b[3mFamily:\u001b[23m binomial \n",
       "  \u001b[3mLink function:\u001b[23m logit \n",
       "\n",
       "\u001b[4mMODEL FIT:\u001b[24m\n",
       "χ²(23) = 3970.13, \u001b[3mp\u001b[23m = 0.00\n",
       "\u001b[3mPseudo-R² (Cragg-Uhler)\u001b[23m = 0.27\n",
       "\u001b[3mPseudo-R² (McFadden)\u001b[23m = 0.18\n",
       "\u001b[3mAIC\u001b[23m = 18202.83, \u001b[3mBIC\u001b[23m = 18393.39 \n",
       "\n",
       "\u001b[3mStandard errors:MLE\u001b[23m\n",
       "------------------------------------------\n",
       "                          exp(Est.)   2.5%\n",
       "----------------------- ----------- ------\n",
       "(Intercept)                    0.41   0.34\n",
       "woman                          1.15   1.05\n",
       "age                            0.99   0.98\n",
       "metropolitan_area              0.99   0.91\n",
       "non_white                      2.12   1.96\n",
       "urban                          0.51   0.46\n",
       "education_1                    4.39   3.49\n",
       "education_2                    2.11   1.91\n",
       "education_3                    1.43   1.25\n",
       "education_4                    1.42   1.22\n",
       "education_6                    0.59   0.48\n",
       "education_7                    0.29   0.25\n",
       "work_1                         1.32   1.15\n",
       "work_2                         0.85   0.74\n",
       "work_3                         1.34   1.15\n",
       "work_5                         0.94   0.78\n",
       "work_6                         1.36   1.14\n",
       "work_7                         0.60   0.50\n",
       "work_8                         0.41   0.33\n",
       "work_9                         0.67   0.56\n",
       "work_10                        1.19   0.99\n",
       "work_11                        0.79   0.67\n",
       "work_12                        0.00   0.00\n",
       "work_permit_0                  2.31   2.11\n",
       "------------------------------------------\n",
       " \n",
       "--------------------------------------------------------------------------------------------------------------------------------\n",
       "                                                                                                                           97.5%\n",
       "----------------------- --------------------------------------------------------------------------------------------------------\n",
       "(Intercept)                                                                                                                 0.49\n",
       "woman                                                                                                                       1.26\n",
       "age                                                                                                                         0.99\n",
       "metropolitan_area                                                                                                           1.08\n",
       "non_white                                                                                                                   2.29\n",
       "urban                                                                                                                       0.56\n",
       "education_1                                                                                                                 5.54\n",
       "education_2                                                                                                                 2.33\n",
       "education_3                                                                                                                 1.63\n",
       "education_4                                                                                                                 1.64\n",
       "education_6                                                                                                                 0.71\n",
       "education_7                                                                                                                 0.34\n",
       "work_1                                                                                                                      1.51\n",
       "work_2                                                                                                                      0.98\n",
       "work_3                                                                                                                      1.55\n",
       "work_5                                                                                                                      1.14\n",
       "work_6                                                                                                                      1.62\n",
       "work_7                                                                                                                      0.72\n",
       "work_8                                                                                                                      0.51\n",
       "work_9                                                                                                                      0.79\n",
       "work_10                                                                                                                     1.42\n",
       "work_11                                                                                                                     0.94\n",
       "work_12                   315359464247047997159099788793749956339671893036809837798514069572351098203145559531994359575609344.00\n",
       "work_permit_0                                                                                                               2.53\n",
       "--------------------------------------------------------------------------------------------------------------------------------\n",
       " \n",
       "---------------------------------------\n",
       "                          z val.      p\n",
       "----------------------- -------- ------\n",
       "(Intercept)                -9.76   0.00\n",
       "woman                       3.06   0.00\n",
       "age                        -9.08   0.00\n",
       "metropolitan_area          -0.14   0.89\n",
       "non_white                  18.95   0.00\n",
       "urban                     -13.45   0.00\n",
       "education_1                12.54   0.00\n",
       "education_2                14.60   0.00\n",
       "education_3                 5.24   0.00\n",
       "education_4                 4.66   0.00\n",
       "education_6                -5.36   0.00\n",
       "education_7               -15.36   0.00\n",
       "work_1                      3.93   0.00\n",
       "work_2                     -2.32   0.02\n",
       "work_3                      3.75   0.00\n",
       "work_5                     -0.60   0.55\n",
       "work_6                      3.39   0.00\n",
       "work_7                     -5.55   0.00\n",
       "work_8                     -7.95   0.00\n",
       "work_9                     -4.73   0.00\n",
       "work_10                     1.88   0.06\n",
       "work_11                    -2.71   0.01\n",
       "work_12                    -0.06   0.95\n",
       "work_permit_0              17.88   0.00\n",
       "---------------------------------------"
      ]
     },
     "metadata": {},
     "output_type": "display_data"
    }
   ],
   "source": [
    "library(jtools)\n",
    "summ(full_model , exp = TRUE)"
   ]
  },
  {
   "cell_type": "markdown",
   "metadata": {
    "id": "eke0JcDtVcCw"
   },
   "source": [
    "Odds Ratio: 0.31 Interpretation: The baseline odds of poverty (for reference categories of all variables) is significantly less than 1 (p < 0.001), indicating a lower likelihood of poverty for the reference group.\n",
    "\n",
    "woman1:Odds Ratio: 1.13Interpretation: Women are 13% more likely to be in poverty compared to men, significant at the 0.01 level (p < 0.01) others the same.\n",
    "\n",
    "The logistic regression model indicates that several factors significantly influence poverty status. Non-white individuals have more than twice the odds of being in poverty compared to white individuals (OR = 2.17, p < 0.001). Women are also slightly more likely to be in poverty (OR = 1.13, p < 0.01). Higher education levels reduce the odds of poverty, with the highest education level (education_7) having the most substantial effect (OR = 0.28, p < 0.001). Urban living significantly decreases the odds of poverty (OR = 0.52, p < 0.001). Other factors such as age, metropolitan area, and work status show varying levels of influence on poverty.\n"
   ]
  },
  {
   "cell_type": "code",
   "execution_count": 56,
   "metadata": {
    "colab": {
     "base_uri": "https://localhost:8080/",
     "height": 351
    },
    "id": "beRUnDPzUvT_",
    "outputId": "c2fb5c90-236d-42ea-9051-554e431d5cc5"
   },
   "outputs": [
    {
     "name": "stderr",
     "output_type": "stream",
     "text": [
      "Loading required package: zoo\n",
      "\n",
      "\n",
      "Attaching package: ‘zoo’\n",
      "\n",
      "\n",
      "The following objects are masked from ‘package:base’:\n",
      "\n",
      "    as.Date, as.Date.numeric\n",
      "\n",
      "\n"
     ]
    },
    {
     "data": {
      "text/html": [
       "<table class=\"dataframe\">\n",
       "<caption>A anova: 2 × 5</caption>\n",
       "<thead>\n",
       "\t<tr><th></th><th scope=col>#Df</th><th scope=col>LogLik</th><th scope=col>Df</th><th scope=col>Chisq</th><th scope=col>Pr(&gt;Chisq)</th></tr>\n",
       "\t<tr><th></th><th scope=col>&lt;dbl&gt;</th><th scope=col>&lt;dbl&gt;</th><th scope=col>&lt;dbl&gt;</th><th scope=col>&lt;dbl&gt;</th><th scope=col>&lt;dbl&gt;</th></tr>\n",
       "</thead>\n",
       "<tbody>\n",
       "\t<tr><th scope=row>1</th><td>24</td><td>-9077.413</td><td>NA</td><td>      NA</td><td>         NA</td></tr>\n",
       "\t<tr><th scope=row>2</th><td>23</td><td>-9082.093</td><td>-1</td><td>9.361035</td><td>0.002216469</td></tr>\n",
       "</tbody>\n",
       "</table>\n"
      ],
      "text/latex": [
       "A anova: 2 × 5\n",
       "\\begin{tabular}{r|lllll}\n",
       "  & \\#Df & LogLik & Df & Chisq & Pr(>Chisq)\\\\\n",
       "  & <dbl> & <dbl> & <dbl> & <dbl> & <dbl>\\\\\n",
       "\\hline\n",
       "\t1 & 24 & -9077.413 & NA &       NA &          NA\\\\\n",
       "\t2 & 23 & -9082.093 & -1 & 9.361035 & 0.002216469\\\\\n",
       "\\end{tabular}\n"
      ],
      "text/markdown": [
       "\n",
       "A anova: 2 × 5\n",
       "\n",
       "| <!--/--> | #Df &lt;dbl&gt; | LogLik &lt;dbl&gt; | Df &lt;dbl&gt; | Chisq &lt;dbl&gt; | Pr(&gt;Chisq) &lt;dbl&gt; |\n",
       "|---|---|---|---|---|---|\n",
       "| 1 | 24 | -9077.413 | NA |       NA |          NA |\n",
       "| 2 | 23 | -9082.093 | -1 | 9.361035 | 0.002216469 |\n",
       "\n"
      ],
      "text/plain": [
       "  #Df LogLik    Df Chisq    Pr(>Chisq) \n",
       "1 24  -9077.413 NA       NA          NA\n",
       "2 23  -9082.093 -1 9.361035 0.002216469"
      ]
     },
     "metadata": {},
     "output_type": "display_data"
    }
   ],
   "source": [
    "library(lmtest)\n",
    "lrtest(full_model, reduced_model)"
   ]
  },
  {
   "cell_type": "code",
   "execution_count": 57,
   "metadata": {
    "colab": {
     "base_uri": "https://localhost:8080/",
     "height": 161
    },
    "id": "fOYtRLOFVloM",
    "outputId": "b8aa038f-ee6f-4498-97cf-676f00962fef"
   },
   "outputs": [
    {
     "data": {
      "text/html": [
       "<table class=\"dataframe\">\n",
       "<caption>A anova: 2 × 5</caption>\n",
       "<thead>\n",
       "\t<tr><th></th><th scope=col>Resid. Df</th><th scope=col>Resid. Dev</th><th scope=col>Df</th><th scope=col>Deviance</th><th scope=col>Pr(&gt;Chi)</th></tr>\n",
       "\t<tr><th></th><th scope=col>&lt;dbl&gt;</th><th scope=col>&lt;dbl&gt;</th><th scope=col>&lt;dbl&gt;</th><th scope=col>&lt;dbl&gt;</th><th scope=col>&lt;dbl&gt;</th></tr>\n",
       "</thead>\n",
       "<tbody>\n",
       "\t<tr><th scope=row>1</th><td>20727</td><td>18154.83</td><td>NA</td><td>       NA</td><td>         NA</td></tr>\n",
       "\t<tr><th scope=row>2</th><td>20728</td><td>18164.19</td><td>-1</td><td>-9.361035</td><td>0.002216469</td></tr>\n",
       "</tbody>\n",
       "</table>\n"
      ],
      "text/latex": [
       "A anova: 2 × 5\n",
       "\\begin{tabular}{r|lllll}\n",
       "  & Resid. Df & Resid. Dev & Df & Deviance & Pr(>Chi)\\\\\n",
       "  & <dbl> & <dbl> & <dbl> & <dbl> & <dbl>\\\\\n",
       "\\hline\n",
       "\t1 & 20727 & 18154.83 & NA &        NA &          NA\\\\\n",
       "\t2 & 20728 & 18164.19 & -1 & -9.361035 & 0.002216469\\\\\n",
       "\\end{tabular}\n"
      ],
      "text/markdown": [
       "\n",
       "A anova: 2 × 5\n",
       "\n",
       "| <!--/--> | Resid. Df &lt;dbl&gt; | Resid. Dev &lt;dbl&gt; | Df &lt;dbl&gt; | Deviance &lt;dbl&gt; | Pr(&gt;Chi) &lt;dbl&gt; |\n",
       "|---|---|---|---|---|---|\n",
       "| 1 | 20727 | 18154.83 | NA |        NA |          NA |\n",
       "| 2 | 20728 | 18164.19 | -1 | -9.361035 | 0.002216469 |\n",
       "\n"
      ],
      "text/plain": [
       "  Resid. Df Resid. Dev Df Deviance  Pr(>Chi)   \n",
       "1 20727     18154.83   NA        NA          NA\n",
       "2 20728     18164.19   -1 -9.361035 0.002216469"
      ]
     },
     "metadata": {},
     "output_type": "display_data"
    }
   ],
   "source": [
    "anova(full_model, reduced_model, test = \"LRT\")"
   ]
  },
  {
   "cell_type": "markdown",
   "metadata": {
    "id": "azSgIDOPV-hH"
   },
   "source": [
    "The log-likelihood ratio test and the analysis of deviance table both show that including the `woman` variable significantly improves the model's fit for predicting poverty, with p-values of 0.0067 and 0.0006, respectively. This indicates that the `woman` variable has a statistically significant effect on poverty status. Excluding this variable leads to a poorer model fit, underscoring its importance in the analysis.\n",
    "\n",
    "# All Contingency tables"
   ]
  },
  {
   "cell_type": "code",
   "execution_count": 58,
   "metadata": {
    "colab": {
     "base_uri": "https://localhost:8080/"
    },
    "id": "eOGHDzqdVs8r",
    "outputId": "9dd5e81d-81ba-4f53-9ac7-defa311ba4b5"
   },
   "outputs": [
    {
     "name": "stdout",
     "output_type": "stream",
     "text": [
      "Contingency table for woman vs poverty:\n",
      "   \n",
      "       0    1\n",
      "  0 9433 3152\n",
      "  1 6651 1516\n",
      "\n",
      "Contingency table for age vs poverty:\n",
      "    \n",
      "       0   1\n",
      "  14   3   2\n",
      "  15  16   5\n",
      "  16  27   9\n",
      "  17  46  23\n",
      "  18 129  34\n",
      "  19 164  55\n",
      "  20 197  62\n",
      "  21 234  77\n",
      "  22 265  83\n",
      "  23 307  78\n",
      "  24 305  91\n",
      "  25 301  86\n",
      "  26 302  86\n",
      "  27 326 100\n",
      "  28 337  89\n",
      "  29 397 105\n",
      "  30 408 120\n",
      "  31 367 122\n",
      "  32 379 106\n",
      "  33 438 139\n",
      "  34 413 153\n",
      "  35 423 140\n",
      "  36 423 162\n",
      "  37 419 162\n",
      "  38 484 146\n",
      "  39 464 128\n",
      "  40 473 152\n",
      "  41 467 151\n",
      "  42 402 136\n",
      "  43 398 143\n",
      "  44 398 142\n",
      "  45 405 107\n",
      "  46 388 103\n",
      "  47 421 102\n",
      "  48 352  81\n",
      "  49 396 103\n",
      "  50 428 108\n",
      "  51 374  94\n",
      "  52 352  83\n",
      "  53 336  97\n",
      "  54 352  66\n",
      "  55 330  72\n",
      "  56 286  74\n",
      "  57 259  75\n",
      "  58 235  44\n",
      "  59 219  59\n",
      "  60 204  49\n",
      "  61 153  24\n",
      "  62 159  30\n",
      "  63 114  26\n",
      "  64 111  21\n",
      "  65  84  23\n",
      "  66  65  13\n",
      "  67  64  25\n",
      "  68  40  11\n",
      "  69  42  16\n",
      "  70  31  14\n",
      "  71  38   9\n",
      "  72  26   9\n",
      "  73  24   6\n",
      "  74  12  10\n",
      "  75  11   7\n",
      "  76  14   7\n",
      "  77  11   3\n",
      "  78  11   1\n",
      "  79   6   3\n",
      "  80   4   2\n",
      "  81   4   0\n",
      "  82   3   1\n",
      "  83   3   1\n",
      "  84   2   0\n",
      "  85   1   0\n",
      "  86   0   1\n",
      "  87   1   0\n",
      "  89   1   0\n",
      "  91   0   1\n",
      "\n",
      "Contingency table for education vs poverty:\n",
      "   \n",
      "       0    1\n",
      "  1  161  238\n",
      "  2 2972 1941\n",
      "  3 1129  454\n",
      "  4  779  366\n",
      "  5 5334 1310\n",
      "  6 1041  140\n",
      "  7 4668  219\n",
      "\n",
      "Contingency table for work vs poverty:\n",
      "    \n",
      "        0    1\n",
      "  1  1596 1291\n",
      "  2  2003  462\n",
      "  3   911  460\n",
      "  4  2980  792\n",
      "  5   711  181\n",
      "  6   621  263\n",
      "  7  1867  190\n",
      "  8  1318  115\n",
      "  9  2564  269\n",
      "  10  773  232\n",
      "  11  739  413\n",
      "  12    1    0\n",
      "\n",
      "Contingency table for metropolitan_area vs poverty:\n",
      "   \n",
      "       0    1\n",
      "  0 9657 3406\n",
      "  1 6427 1262\n",
      "\n",
      "Contingency table for non_white vs poverty:\n",
      "   \n",
      "       0    1\n",
      "  0 8113 1316\n",
      "  1 7970 3352\n",
      "\n",
      "Contingency table for urban vs poverty:\n",
      "   \n",
      "        0     1\n",
      "  0  2553  1874\n",
      "  1 13531  2794\n",
      "\n",
      "Contingency table for work_permit vs poverty:\n",
      "   \n",
      "       0    1\n",
      "  0 2304 1477\n",
      "  1 6677 1019\n",
      "  2 7103 2172\n",
      "\n"
     ]
    }
   ],
   "source": [
    "independent_vars <- c(\"woman\", \"age\", \"education\", \"work\", \"metropolitan_area\",\n",
    "                      \"non_white\", \"urban\", \"work_permit\")\n",
    "for (var in independent_vars) {\n",
    "  cat(\"Contingency table for\", var, \"vs poverty:\\n\")\n",
    "  print(table(df[[var]], df$poverty))\n",
    "  cat(\"\\n\")\n",
    "}"
   ]
  },
  {
   "cell_type": "markdown",
   "metadata": {
    "id": "y0Faq-ItXzx-"
   },
   "source": [
    "**Odds Ratio**"
   ]
  },
  {
   "cell_type": "code",
   "execution_count": 59,
   "metadata": {
    "colab": {
     "base_uri": "https://localhost:8080/"
    },
    "id": "IZQO5AIOWLgT",
    "outputId": "72e2e321-bc36-4c4c-c0ce-6781d65fb764"
   },
   "outputs": [
    {
     "name": "stdout",
     "output_type": "stream",
     "text": [
      "      (Intercept)             woman               age metropolitan_area \n",
      "     0.4087823204      1.1522428462      0.9852994599      0.9939481241 \n",
      "        non_white             urban       education_1       education_2 \n",
      "     2.1195817384      0.5079970362      4.3928268979      2.1066156679 \n",
      "      education_3       education_4       education_6       education_7 \n",
      "     1.4283515652      1.4183202231      0.5884957715      0.2878207704 \n",
      "           work_1            work_2            work_3            work_5 \n",
      "     1.3178767291      0.8509202369      1.3353505274      0.9425452000 \n",
      "           work_6            work_7            work_8            work_9 \n",
      "     1.3557118379      0.6017205252      0.4088619493      0.6661569647 \n",
      "          work_10           work_11           work_12     work_permit_0 \n",
      "     1.1855283513      0.7896671139      0.0006417893      2.3082679877 \n",
      "                    Odds_Ratio      CI_Lower     CI_Upper\n",
      "(Intercept)       0.4087823204  3.415635e-01 4.892296e-01\n",
      "woman             1.1522428462  1.052338e+00 1.261632e+00\n",
      "age               0.9852994599  9.821559e-01 9.884531e-01\n",
      "metropolitan_area 0.9939481241  9.121938e-01 1.083030e+00\n",
      "non_white         2.1195817384  1.961148e+00 2.290815e+00\n",
      "urban             0.5079970362  4.602655e-01 5.606785e-01\n",
      "education_1       4.3928268979  3.485461e+00 5.536407e+00\n",
      "education_2       2.1066156679  1.906100e+00 2.328224e+00\n",
      "education_3       1.4283515652  1.249887e+00 1.632298e+00\n",
      "education_4       1.4183202231  1.224321e+00 1.643060e+00\n",
      "education_6       0.5884957715  4.847792e-01 7.144020e-01\n",
      "education_7       0.2878207704  2.455348e-01 3.373893e-01\n",
      "work_1            1.3178767291  1.148260e+00 1.512549e+00\n",
      "work_2            0.8509202369  7.423226e-01 9.754051e-01\n",
      "work_3            1.3353505274  1.148188e+00 1.553021e+00\n",
      "work_5            0.9425452000  7.761927e-01 1.144550e+00\n",
      "work_6            1.3557118379  1.137035e+00 1.616445e+00\n",
      "work_7            0.6017205252  5.029206e-01 7.199300e-01\n",
      "work_8            0.4088619493  3.279191e-01 5.097846e-01\n",
      "work_9            0.6661569647  5.630281e-01 7.881758e-01\n",
      "work_10           1.1855283513  9.925781e-01 1.415987e+00\n",
      "work_11           0.7896671139  6.654939e-01 9.370095e-01\n",
      "work_12           0.0006417893 1.306108e-105 3.153595e+98\n",
      "work_permit_0     2.3082679877  2.105981e+00 2.529985e+00\n"
     ]
    }
   ],
   "source": [
    "coef_full_model <- coef(full_model)\n",
    "odds_ratios <- exp(coef_full_model)\n",
    "print(odds_ratios)\n",
    "se <- sqrt(diag(vcov(full_model)))\n",
    "ci_lower <- exp(coef_full_model - qnorm(0.975) * se)\n",
    "ci_upper <- exp(coef_full_model + qnorm(0.975) * se)\n",
    "or_ci <- data.frame(\n",
    "  Odds_Ratio = odds_ratios,\n",
    "  CI_Lower = ci_lower,\n",
    "  CI_Upper = ci_upper\n",
    ")\n",
    "print(or_ci)"
   ]
  },
  {
   "cell_type": "code",
   "execution_count": 60,
   "metadata": {
    "colab": {
     "base_uri": "https://localhost:8080/",
     "height": 161
    },
    "id": "I1spT_N4X3Mj",
    "outputId": "c68f6d6e-eb94-4b99-d9a5-88230ce75590"
   },
   "outputs": [
    {
     "data": {
      "text/html": [
       "<table class=\"dataframe\">\n",
       "<caption>A anova: 2 × 5</caption>\n",
       "<thead>\n",
       "\t<tr><th></th><th scope=col>Resid. Df</th><th scope=col>Resid. Dev</th><th scope=col>Df</th><th scope=col>Deviance</th><th scope=col>Pr(&gt;Chi)</th></tr>\n",
       "\t<tr><th></th><th scope=col>&lt;dbl&gt;</th><th scope=col>&lt;dbl&gt;</th><th scope=col>&lt;dbl&gt;</th><th scope=col>&lt;dbl&gt;</th><th scope=col>&lt;dbl&gt;</th></tr>\n",
       "</thead>\n",
       "<tbody>\n",
       "\t<tr><th scope=row>1</th><td>20726</td><td>18153.09</td><td>NA</td><td>       NA</td><td>       NA</td></tr>\n",
       "\t<tr><th scope=row>2</th><td>20727</td><td>18154.83</td><td>-1</td><td>-1.733961</td><td>0.1879059</td></tr>\n",
       "</tbody>\n",
       "</table>\n"
      ],
      "text/latex": [
       "A anova: 2 × 5\n",
       "\\begin{tabular}{r|lllll}\n",
       "  & Resid. Df & Resid. Dev & Df & Deviance & Pr(>Chi)\\\\\n",
       "  & <dbl> & <dbl> & <dbl> & <dbl> & <dbl>\\\\\n",
       "\\hline\n",
       "\t1 & 20726 & 18153.09 & NA &        NA &        NA\\\\\n",
       "\t2 & 20727 & 18154.83 & -1 & -1.733961 & 0.1879059\\\\\n",
       "\\end{tabular}\n"
      ],
      "text/markdown": [
       "\n",
       "A anova: 2 × 5\n",
       "\n",
       "| <!--/--> | Resid. Df &lt;dbl&gt; | Resid. Dev &lt;dbl&gt; | Df &lt;dbl&gt; | Deviance &lt;dbl&gt; | Pr(&gt;Chi) &lt;dbl&gt; |\n",
       "|---|---|---|---|---|---|\n",
       "| 1 | 20726 | 18153.09 | NA |        NA |        NA |\n",
       "| 2 | 20727 | 18154.83 | -1 | -1.733961 | 0.1879059 |\n",
       "\n"
      ],
      "text/plain": [
       "  Resid. Df Resid. Dev Df Deviance  Pr(>Chi) \n",
       "1 20726     18153.09   NA        NA        NA\n",
       "2 20727     18154.83   -1 -1.733961 0.1879059"
      ]
     },
     "metadata": {},
     "output_type": "display_data"
    }
   ],
   "source": [
    "model <- glm(poverty ~ .,data = df1[1:24], family = binomial(link = \"logit\" ))\n",
    "interaction_model <- glm(poverty ~ .+(df$woman*df$non_white),data = df1[1:24],\n",
    "                      family = binomial(link = \"logit\" ))\n",
    "anova(interaction_model, model, test = \"LRT\")"
   ]
  },
  {
   "cell_type": "markdown",
   "metadata": {
    "id": "8ZsT91ugYnWX"
   },
   "source": [
    "based on this analysis, Model 2 (without the interaction term) does not significantly worsen the fit compared to Model 1, suggesting that the interaction term (df\\$woman * df\\$non_white) may not be necessary in explaining the variation in the response variable (poverty).\n"
   ]
  },
  {
   "cell_type": "code",
   "execution_count": 61,
   "metadata": {
    "colab": {
     "base_uri": "https://localhost:8080/"
    },
    "id": "dX65nnvUYkdA",
    "outputId": "9906aad9-25b0-4709-e6a3-e3130f50d3ad"
   },
   "outputs": [
    {
     "name": "stderr",
     "output_type": "stream",
     "text": [
      "Installing package into ‘/usr/local/lib/R/site-library’\n",
      "(as ‘lib’ is unspecified)\n",
      "\n",
      "also installing the dependencies ‘ucminf’, ‘numDeriv’\n",
      "\n",
      "\n",
      "\n",
      "Attaching package: ‘ordinal’\n",
      "\n",
      "\n",
      "The following object is masked from ‘package:dplyr’:\n",
      "\n",
      "    slice\n",
      "\n",
      "\n"
     ]
    }
   ],
   "source": [
    "install.packages(\"ordinal\")\n",
    "library(ordinal)"
   ]
  },
  {
   "cell_type": "code",
   "execution_count": 62,
   "metadata": {
    "colab": {
     "base_uri": "https://localhost:8080/",
     "height": 780
    },
    "id": "0h6p5UE0Y0gz",
    "outputId": "2d3fea2c-d6f0-4d8e-ce2b-4f1e0f5426e9"
   },
   "outputs": [
    {
     "data": {
      "text/plain": [
       "\n",
       "Call:\n",
       "glm(formula = poverty ~ woman + age + education + work + metropolitan_area + \n",
       "    non_white + urban + work_permit, family = binomial(link = cloglog), \n",
       "    data = df)\n",
       "\n",
       "Coefficients:\n",
       "                     Estimate Std. Error z value Pr(>|z|)    \n",
       "(Intercept)          0.935684   0.102939   9.090  < 2e-16 ***\n",
       "woman1               0.098265   0.038891   2.527  0.01152 *  \n",
       "age                 -0.016635   0.001347 -12.349  < 2e-16 ***\n",
       "education2          -0.493887   0.074571  -6.623 3.52e-11 ***\n",
       "education3          -0.819951   0.087367  -9.385  < 2e-16 ***\n",
       "education4          -0.823583   0.092642  -8.890  < 2e-16 ***\n",
       "education5          -1.097914   0.080794 -13.589  < 2e-16 ***\n",
       "education6          -1.574094   0.116652 -13.494  < 2e-16 ***\n",
       "education7          -2.337803   0.106348 -21.983  < 2e-16 ***\n",
       "work2               -0.193134   0.061706  -3.130  0.00175 ** \n",
       "work3               -0.029214   0.061011  -0.479  0.63205    \n",
       "work4               -0.153550   0.055362  -2.774  0.00554 ** \n",
       "work5               -0.249172   0.085302  -2.921  0.00349 ** \n",
       "work6                0.031828   0.076460   0.416  0.67722    \n",
       "work7               -0.472983   0.087064  -5.433 5.55e-08 ***\n",
       "work8               -1.062738   0.103159 -10.302  < 2e-16 ***\n",
       "work9               -0.511679   0.080541  -6.353 2.11e-10 ***\n",
       "work10              -0.166799   0.081103  -2.057  0.03972 *  \n",
       "work11              -0.210487   0.073150  -2.877  0.00401 ** \n",
       "work12              -7.725666 114.217763  -0.068  0.94607    \n",
       "metropolitan_area1  -0.014745   0.036857  -0.400  0.68912    \n",
       "non_white1           0.626344   0.033438  18.732  < 2e-16 ***\n",
       "urban1              -0.489622   0.039576 -12.372  < 2e-16 ***\n",
       "work_permit1        -0.998529   0.044109 -22.638  < 2e-16 ***\n",
       "work_permit2        -0.343475   0.039339  -8.731  < 2e-16 ***\n",
       "---\n",
       "Signif. codes:  0 ‘***’ 0.001 ‘**’ 0.01 ‘*’ 0.05 ‘.’ 0.1 ‘ ’ 1\n",
       "\n",
       "(Dispersion parameter for binomial family taken to be 1)\n",
       "\n",
       "    Null deviance: 22125  on 20750  degrees of freedom\n",
       "Residual deviance: 17903  on 20726  degrees of freedom\n",
       "  (1 observation deleted due to missingness)\n",
       "AIC: 17953\n",
       "\n",
       "Number of Fisher Scoring iterations: 9\n"
      ]
     },
     "metadata": {},
     "output_type": "display_data"
    }
   ],
   "source": [
    "df$poverty <- as.factor(df$poverty)\n",
    "df$woman <- as.factor(df$woman)\n",
    "df$age <- as.numeric(df$age)\n",
    "df$education <- as.factor(df$education)\n",
    "df$work <- as.factor(df$work)\n",
    "df$metropolitan_area <- as.factor(df$metropolitan_area)\n",
    "df$non_white <- as.factor(df$non_white)\n",
    "df$urban <- as.factor(df$urban)\n",
    "df$work_permit <- as.factor(df$work_permit)\n",
    "model_cloglog <- glm(poverty ~ woman + age + education + work +\n",
    "                 metropolitan_area + non_white + urban + work_permit,\n",
    "                     family = binomial(link = cloglog), data = df)\n",
    "summary(model_cloglog)"
   ]
  },
  {
   "cell_type": "markdown",
   "metadata": {
    "id": "9RbTWxptZbYm"
   },
   "source": [
    "Significance of Predictors: Many predictors are highly significant, suggesting they have a strong association with poverty status.\n",
    "\n",
    "The coefficients show the direction and magnitude of the effect each predictor has on the log odds of being in poverty. Positive coefficients indicate increased odds, while negative coefficients indicate decreased odds.\n",
    "\n",
    "The residual deviance is lower than the null deviance, indicating that the model with predictors fits the data better than the model with only the intercept."
   ]
  }
 ],
 "metadata": {
  "colab": {
   "provenance": []
  },
  "kernelspec": {
   "display_name": "R",
   "language": "R",
   "name": "ir"
  },
  "language_info": {
   "name": "R"
  }
 },
 "nbformat": 4,
 "nbformat_minor": 4
}
